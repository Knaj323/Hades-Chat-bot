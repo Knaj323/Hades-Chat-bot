{
 "cells": [
  {
   "cell_type": "code",
   "execution_count": 1,
   "metadata": {},
   "outputs": [],
   "source": [
    "import sqlite3\n",
    "import requests\n",
    "\n",
    "def fetch_wikipedia_data(title):\n",
    "    url = f\"https://en.wikipedia.org/w/api.php?action=query&format=json&prop=extracts&titles={title}&formatversion=2\"\n",
    "    response = requests.get(url)\n",
    "    data = response.json()\n",
    "    return data['query']['pages'][0]['extract']\n",
    "\n",
    "def create_database():\n",
    "    conn = sqlite3.connect('wiki_data.db')\n",
    "    c = conn.cursor()\n",
    "    c.execute('''CREATE TABLE IF NOT EXISTS Articles\n",
    "                 (id INTEGER PRIMARY KEY, title TEXT, content TEXT)''')\n",
    "    conn.commit()\n",
    "    conn.close()\n",
    "\n",
    "def insert_article(title, content):\n",
    "    conn = sqlite3.connect('wiki_data.db')\n",
    "    c = conn.cursor()\n",
    "    c.execute('''INSERT INTO Articles (title, content) VALUES (?, ?)''', (title, content))\n",
    "    \n",
    "    conn.commit()\n",
    "    conn.close()\n",
    "\n",
    "titles = [\n",
    "    \"Hades\" , \"Hades_in_popular_culture\"]\n",
    "\n",
    "create_database()\n",
    "\n",
    "for title in titles:\n",
    "    content = fetch_wikipedia_data(title)\n",
    "    insert_article(title, content)"
   ]
  }
 ],
 "metadata": {
  "kernelspec": {
   "display_name": "Python 3 (ipykernel)",
   "language": "python",
   "name": "python3"
  },
  "language_info": {
   "codemirror_mode": {
    "name": "ipython",
    "version": 3
   },
   "file_extension": ".py",
   "mimetype": "text/x-python",
   "name": "python",
   "nbconvert_exporter": "python",
   "pygments_lexer": "ipython3",
   "version": "3.11.5"
  }
 },
 "nbformat": 4,
 "nbformat_minor": 5
}
